{
 "cells": [
  {
   "cell_type": "markdown",
   "metadata": {},
   "source": [
    "# KastRedux Tutorial: Basic Spectral Analysis\n",
    "\n",
    "## Authors\n",
    "Adam Burgasser\n",
    "\n",
    "## Version date\n",
    "12 July 2024\n",
    "\n",
    "## Learning Goals\n",
    "* Read in an optical Kast spectrum (kastredux.getSpectrum)\n",
    "* Explore built-in functions for Spectrum objects (kastredux.Spectrum)\n",
    "* Some basic manipulation of spectra - normalizing, scaling, trimming, changing units, spectral math (kastredux.Spectrum)\n",
    "* Compare a spectrum to another spectrum (kastredux.compareSpectrum)\n",
    "* Compare a spectrum a set of spectral standards (kastredux.classifyByStandard)\n",
    "* Measure a set of indices to infer a classification (kastredux.measureIndexSet, kastredux.classifyByIndex)\n",
    "* Measure line equivalent widths (kastredux.ew, kastredux.ewSet)\n",
    "* Measure metallicity and magnetic emission (kastredux.zeta, kastredux.lhalbol)\n",
    "\n",
    "## Keywords\n",
    "spectral analysis, indices, classification\n",
    "\n",
    "## Companion Content\n",
    "None\n",
    "\n",
    "## Summary\n",
    "In this tutorial, we will explore some basic spectral analysis and visualization tools included in the kastredux package, which are particularly designed for analysis of ultracol dwarfs (M, L, T dwarfs). \n"
   ]
  },
  {
   "cell_type": "code",
   "execution_count": null,
   "metadata": {},
   "outputs": [],
   "source": [
    "# if you are using google colab, first install kastredux\n",
    "#!pip install git+https://github.com/aburgasser/kastredux.git"
   ]
  },
  {
   "cell_type": "code",
   "execution_count": null,
   "metadata": {},
   "outputs": [],
   "source": [
    "# import statements\n",
    "import kastredux as kr\n",
    "import astropy.units as u\n",
    "import numpy as np\n",
    "import matplotlib.pyplot as plt\n",
    "%matplotlib inline\n"
   ]
  },
  {
   "cell_type": "markdown",
   "metadata": {},
   "source": [
    "# Using the kastredux Spectrum object\n",
    "\n",
    "In this section we'll familiarize ourselves with the kastredux Spectrum object, which contains several built-in functions for basic visualization and spectral manipulation, as well as reading in fits and ascii spectral data"
   ]
  },
  {
   "cell_type": "code",
   "execution_count": null,
   "metadata": {},
   "outputs": [],
   "source": [
    "# read in a fits file from sample directory\n",
    "sp = kr.readSpectrum(kr.SAMPLEFOLDER+'kastRED_J0102+5254_20210925.fits',name='J0101+5254')\n",
    "sp"
   ]
  },
  {
   "cell_type": "code",
   "execution_count": null,
   "metadata": {},
   "outputs": [],
   "source": [
    "# quick visualization of spectrum\n",
    "sp.plot()"
   ]
  },
  {
   "cell_type": "code",
   "execution_count": null,
   "metadata": {},
   "outputs": [],
   "source": [
    "# trim to a smaller spectral region\n",
    "sp.trim([6000,9000])\n",
    "sp.plot()"
   ]
  },
  {
   "cell_type": "code",
   "execution_count": null,
   "metadata": {},
   "outputs": [],
   "source": [
    "# mask a part of the spectrum, such as telluric absorption regions\n",
    "sp.maskWave([7580,7640])\n",
    "sp.plot()"
   ]
  },
  {
   "cell_type": "code",
   "execution_count": null,
   "metadata": {},
   "outputs": [],
   "source": [
    "# normalize - notice the difference on the y-axis\n",
    "sp.normalize([8100,8300])\n",
    "sp.plot()"
   ]
  },
  {
   "cell_type": "code",
   "execution_count": null,
   "metadata": {},
   "outputs": [],
   "source": [
    "# scale by a constant factor - notice the difference on the y-axis\n",
    "sp.scale(2.5)\n",
    "sp.plot()"
   ]
  },
  {
   "cell_type": "code",
   "execution_count": null,
   "metadata": {},
   "outputs": [],
   "source": [
    "# smooth spectrum\n",
    "sp.smooth(10)\n",
    "sp.plot()"
   ]
  },
  {
   "cell_type": "code",
   "execution_count": null,
   "metadata": {},
   "outputs": [],
   "source": [
    "# return to the original spectrum - note: you'll need to add in the name\n",
    "sp.reset()\n",
    "sp.name = 'J0101+5254'\n",
    "sp.plot()"
   ]
  },
  {
   "cell_type": "code",
   "execution_count": null,
   "metadata": {},
   "outputs": [],
   "source": [
    "# save spectrum to a file\n",
    "sp.write('myspectrum.fits')"
   ]
  },
  {
   "cell_type": "code",
   "execution_count": null,
   "metadata": {},
   "outputs": [],
   "source": [
    "# read in an ascii file from sample directory\n",
    "sp2 = kr.readSpectrum(kr.SAMPLEFOLDER+'kastRED_G233-42_20210925.txt',name='G233-42')\n",
    "sp2.plot()"
   ]
  },
  {
   "cell_type": "code",
   "execution_count": null,
   "metadata": {},
   "outputs": [],
   "source": [
    "# add two spectra together\n",
    "sp1 = kr.readSpectrum(kr.SAMPLEFOLDER+'kastRED_J0102+5254_20210925.fits',name='J0101+5254')\n",
    "sp1.normalize([8100,8300])\n",
    "sp2 = kr.readSpectrum(kr.SAMPLEFOLDER+'kastRED_G233-42_20210925.txt',name='G233-42')\n",
    "sp2.normalize([8100,8300])\n",
    "sp3 = sp1+sp2\n",
    "sp3.plot()"
   ]
  },
  {
   "cell_type": "code",
   "execution_count": null,
   "metadata": {},
   "outputs": [],
   "source": [
    "# subtract two spectra\n",
    "sp3 = sp1-sp2\n",
    "sp3.plot()"
   ]
  },
  {
   "cell_type": "code",
   "execution_count": null,
   "metadata": {},
   "outputs": [],
   "source": [
    "# use matplotlib to compare two spectra and their difference\n",
    "xlim = [6000,9000]\n",
    "plt.plot(sp1.wave,sp1.flux,'g-',label=sp1.name)\n",
    "plt.plot(sp2.wave,sp2.flux,'m-',label=sp2.name)\n",
    "plt.plot(sp3.wave,sp3.flux,'k--',label='Difference')\n",
    "plt.legend()\n",
    "plt.plot(xlim,[0,0],'k:')\n",
    "plt.xlim(xlim)\n",
    "plt.ylim([-0.5,1.2])\n",
    "plt.xlabel('Wavelength (Angstrom)')\n",
    "plt.ylabel('Normalized Flux')\n"
   ]
  },
  {
   "cell_type": "markdown",
   "metadata": {},
   "source": [
    "# Comparing spectra to each other and standards\n",
    "\n",
    "One of the most common tasks in spectral analysis is comparing to other spectral templates or models to determine physical properties. kastredux has dedicated tools and comparison spectra for this"
   ]
  },
  {
   "cell_type": "code",
   "execution_count": null,
   "metadata": {},
   "outputs": [],
   "source": [
    "# a common function is to read in 2 spectra and compare them\n",
    "# note that what is returned is the chi-square statistic and a scale factor for the second spectrum\n",
    "sp1 = kr.readSpectrum(kr.SAMPLEFOLDER+'kastRED_J0102+5254_20210925.fits',name='J0101+5254')\n",
    "sp2 = kr.readSpectrum(kr.SAMPLEFOLDER+'kastRED_G233-42_20210925.txt',name='G233-42')\n",
    "chi,scale = kr.compareSpectra(sp1,sp2,plot=True)\n",
    "print(chi,scale)\n"
   ]
  },
  {
   "cell_type": "code",
   "execution_count": null,
   "metadata": {},
   "outputs": [],
   "source": [
    "# we can refine te fit but choosing the region to compare\n",
    "chi,scale = kr.compareSpectra(sp1,sp2,plot=True,fit_range=[7200,7500])\n",
    "print(chi,scale)"
   ]
  },
  {
   "cell_type": "code",
   "execution_count": null,
   "metadata": {},
   "outputs": [],
   "source": [
    "# use the scale factor to generate your own plot using matplotlib\n",
    "sp2.scale(scale)\n",
    "sp3 = sp1-sp2\n",
    "\n",
    "xlim = [6000,9000]\n",
    "plt.plot(sp1.wave,sp1.flux,'g-',label=sp1.name)\n",
    "plt.plot(sp2.wave,sp2.flux,'m-',label=sp2.name)\n",
    "plt.plot(sp3.wave,sp3.flux,'k--',label='Difference')\n",
    "plt.legend()\n",
    "plt.plot(xlim,[0,0],'k:')\n",
    "plt.xlim(xlim)\n",
    "plt.ylim([-5,40])\n",
    "plt.xlabel('Wavelength (Angstrom)')\n",
    "plt.ylabel('Normalized Flux')\n"
   ]
  },
  {
   "cell_type": "markdown",
   "metadata": {},
   "source": [
    "## Comparison to spectral standards\n",
    "\n",
    "kastredux has a library of built-in spectral standards to compare to spectra to obtain classifications and identify peculiar features"
   ]
  },
  {
   "cell_type": "code",
   "execution_count": null,
   "metadata": {},
   "outputs": [],
   "source": [
    "# initialize the spectral standards, which are stored in the SPTSTDS global variable\n",
    "# by default it will load in M and L dwarf SDSS standards from \n",
    "# Bochanski et al., Schmidt et al., and Kesseli et al.\n",
    "kr.initializeStandards()\n",
    "kr.SPTSTDS"
   ]
  },
  {
   "cell_type": "code",
   "execution_count": null,
   "metadata": {},
   "outputs": [],
   "source": [
    "# you can also add in subdwarf (sd, esd, usd), low gravity (beta, gamma), \n",
    "# and giant standards from SDSS\n",
    "kr.initializeStandards(sd=True)\n",
    "kr.SPTSTDS"
   ]
  },
  {
   "cell_type": "code",
   "execution_count": null,
   "metadata": {},
   "outputs": [],
   "source": [
    "# you can also add in specific spectral standards from \n",
    "# Kirkpatrick et al. (L dwarfs), Burgasser et al. (T dwarfs), and Lepine et al. (subdwarfs)\n",
    "kr.initializeStandards(sdss=False,reset=True)\n",
    "kr.SPTSTDS"
   ]
  },
  {
   "cell_type": "code",
   "execution_count": null,
   "metadata": {},
   "outputs": [],
   "source": [
    "# each of these is just a Spectrum object\n",
    "kr.SPTSTDS['L8.0'].plot()"
   ]
  },
  {
   "cell_type": "code",
   "execution_count": null,
   "metadata": {},
   "outputs": [],
   "source": [
    "# the easiest way to compare to all sources is to use classifyTemplate()\n",
    "sp = kr.readSpectrum(kr.SAMPLEFOLDER+'kastRED_J0102+5254_20210925.fits',name='J0101+5254')\n",
    "kr.classifyTemplate(sp,plot=True)"
   ]
  },
  {
   "cell_type": "code",
   "execution_count": null,
   "metadata": {},
   "outputs": [],
   "source": [
    "# by default this returns the best fit template; you can also return all of the comparison data\n",
    "kr.classifyTemplate(sp,plot=True,output='allmeasures')\n"
   ]
  },
  {
   "cell_type": "code",
   "execution_count": null,
   "metadata": {},
   "outputs": [],
   "source": [
    "# you can also define a custom template set\n",
    "templates = {\n",
    "    'G233-42': kr.readSpectrum(kr.SAMPLEFOLDER+'kastRED_G233-42_20210925.txt',name='G233-42'),\n",
    "    'J1010+5254': kr.readSpectrum(kr.SAMPLEFOLDER+'kastRED_J0102+5254_20210925.fits',name='J0101+5254'),\n",
    "    'LP389-13': kr.readSpectrum(kr.SAMPLEFOLDER+'kastRED_LP389-13_20210926.fits',name='LP389-13'),\n",
    "}    \n",
    "sp = kr.readSpectrum(kr.SAMPLEFOLDER+'kastRED_J1229+0752_20220310.fits',name='J1229+0752')\n",
    "kr.classifyTemplate(sp,template_set=templates,plot=True,verbose=True)\n"
   ]
  },
  {
   "cell_type": "markdown",
   "metadata": {},
   "source": [
    "# Measuring spectral indices\n",
    "\n",
    "Spectral indices measure the strengths of atomic and molecular features, as well as overall spectral shape, and can be correlated with spectral type or physical quantities such as temperature, surface gravity, and metallicity. kastredux has several sets of pre-defined indices that can be used for optical spectra of ultracool dwarfs."
   ]
  },
  {
   "cell_type": "code",
   "execution_count": null,
   "metadata": {},
   "outputs": [],
   "source": [
    "# the set of index sets included in kastredux \n",
    "# are contained in the INDEX_SETS global variable \n",
    "kr.INDEX_SETS.keys()"
   ]
  },
  {
   "cell_type": "code",
   "execution_count": null,
   "metadata": {},
   "outputs": [],
   "source": [
    "kr.INDEX_SETS['lepine2003']['indices'].keys()"
   ]
  },
  {
   "cell_type": "code",
   "execution_count": null,
   "metadata": {},
   "outputs": [],
   "source": [
    "# you can measure of set of indices using measureIndexSet()\n",
    "# this returns a dict with each index name key pointed to a value and uncertainty tuple\n",
    "sp = kr.readSpectrum(kr.SAMPLEFOLDER+'kastRED_J1229+0752_20220310.fits',name='J1229+0752')\n",
    "kr.measureIndexSet(sp,ref='lepine2003')"
   ]
  },
  {
   "cell_type": "code",
   "execution_count": null,
   "metadata": {},
   "outputs": [],
   "source": [
    "kr.INDEX_SETS"
   ]
  },
  {
   "cell_type": "code",
   "execution_count": null,
   "metadata": {},
   "outputs": [],
   "source": [
    "# you can also define your own index by defining the sample ranges\n",
    "# and the how these are measured and combined\n",
    "# in this example we'll measure the strength of the TiO band at 8400 Angstroms\n",
    "# using a simple ratio of in-band value to nearby continuum\n",
    "sp = kr.readSpectrum(kr.SAMPLEFOLDER+'kastRED_J1229+0752_20220310.fits',name='J1229+0752')\n",
    "sp.normalize([7000,7100])\n",
    "\n",
    "rng1 = [7060,7070] # in band\n",
    "rng2 = [7040,7050] # continuum\n",
    "\n",
    "val,unc = kr.measureIndex(sp,[[7060,7070],[7045,7055]],sample='median',method='ratio')\n",
    "print(val,unc)\n",
    "\n",
    "# visualize this\n",
    "plt.plot(sp.wave,sp.flux,'k-')\n",
    "plt.plot(rng1,[sp.sample(rng1),sp.sample(rng1)],'m-',linewidth=5)\n",
    "plt.plot(rng2,[sp.sample(rng2),sp.sample(rng2)],'m-',linewidth=5)\n",
    "plt.xlim([7000,7100])\n",
    "plt.ylim([0,1.2])\n",
    "\n"
   ]
  },
  {
   "cell_type": "markdown",
   "metadata": {},
   "source": [
    "## Classifications from indices\n",
    "\n",
    "Indices can be used to estimate classifications, and it's sometimes useful to compare the template-based classifications to index-based ones"
   ]
  },
  {
   "cell_type": "code",
   "execution_count": null,
   "metadata": {},
   "outputs": [],
   "source": [
    "# some of these indices are used for classification\n",
    "# the global variable INDEX_CLASSIFICATION_RELATIONS contains this info\n",
    "kr.INDEX_CLASSIFICATION_RELATIONS.keys()"
   ]
  },
  {
   "cell_type": "code",
   "execution_count": null,
   "metadata": {},
   "outputs": [],
   "source": [
    "# use the classification indices with kr.classifyIndices()\n",
    "sp = kr.readSpectrum(kr.SAMPLEFOLDER+'kastRED_J1229+0752_20220310.fits',name='J1229+0752')\n",
    "kr.classifyIndices(sp,ref='lepine2003',verbose=True)"
   ]
  },
  {
   "cell_type": "code",
   "execution_count": null,
   "metadata": {},
   "outputs": [],
   "source": [
    "# compare to template classification\n",
    "kr.classifyTemplate(sp,plot=True)"
   ]
  },
  {
   "cell_type": "markdown",
   "metadata": {},
   "source": [
    "## Measuring Metallicity\n",
    "\n",
    "There are also indices used to measure metallicity, based on the zeta method of Lepine et al. (2007). There are several zeta calibrations in kastredux, accessed with the zeta() function, which measures the zeta value and can optionally return the metallicity class and estimate of the metallicity."
   ]
  },
  {
   "cell_type": "code",
   "execution_count": null,
   "metadata": {},
   "outputs": [],
   "source": [
    "# measure zeta \n",
    "sp = kr.readSpectrum(kr.SAMPLEFOLDER+'kastRED_J1717+7244_20211113.fits',name='J1717+7244')\n",
    "kr.zeta(sp,ref='lepine2007')"
   ]
  },
  {
   "cell_type": "code",
   "execution_count": null,
   "metadata": {},
   "outputs": [],
   "source": [
    "# return the metallicity class\n",
    "kr.zeta(sp,ref='lepine2007',output='class')"
   ]
  },
  {
   "cell_type": "code",
   "execution_count": null,
   "metadata": {},
   "outputs": [],
   "source": [
    "# check against the templates to see if this is right\n",
    "kr.initializeStandards(sd=True)\n",
    "kr.compareSpectra(sp,kr.SPTSTDS['sdM1.0'],fit_range=[6000,8500],plot=True)"
   ]
  },
  {
   "cell_type": "code",
   "execution_count": null,
   "metadata": {},
   "outputs": [],
   "source": [
    "# return estimate of metallicity from zeta\n",
    "kr.zeta(sp,ref='lepine2007',metallicity_ref='mann2013',output='z')"
   ]
  },
  {
   "cell_type": "code",
   "execution_count": null,
   "metadata": {},
   "outputs": [],
   "source": [
    "# return everything\n",
    "kr.zeta(sp,output='allmeasures')\n"
   ]
  },
  {
   "cell_type": "markdown",
   "metadata": {},
   "source": [
    "# Equivalent Widths\n",
    "\n",
    "Equivalent widths are measurements of atomic line strengths, equal to the width (in Angstroms) that a perfectly rectangular absorption feature would be if it went to zero flux from the local continuum. Equivalent width is defined as \n",
    "\n",
    "$EW = \\int\\left(1-\\frac{F_{line}(\\lambda)}{F_{continuum}(\\lambda)}\\right)d\\lambda$\n",
    "\n",
    "kastredux has several functions for measuring individual lines (measureEW), multiple lines from a given element (measureEWElement), and sets of lines defined in various papers (measureEWSet).\n"
   ]
  },
  {
   "cell_type": "code",
   "execution_count": null,
   "metadata": {},
   "outputs": [],
   "source": [
    "# measure the EW of the 8195 Angstrom Na I line and visualize measurement\n",
    "sp = kr.readSpectrum(kr.SAMPLEFOLDER+'kastRED_J1229+0752_20220310.fits',name='J1229+0752')\n",
    "kr.measureEW(sp,8195,plot=True)\n"
   ]
  },
  {
   "cell_type": "code",
   "execution_count": null,
   "metadata": {},
   "outputs": [],
   "source": [
    "# measure all of the Fe I lines in a spectrum\n",
    "kr.measureEWElement(sp,'FeI',plot=True)\n"
   ]
  },
  {
   "cell_type": "code",
   "execution_count": null,
   "metadata": {},
   "outputs": [],
   "source": [
    "# do the same for hydrogen; note for emission lines you \n",
    "# should set emission=True and will get a negative EW\n",
    "kr.measureEWElement(sp,'H',plot=True,emission=True)\n"
   ]
  },
  {
   "cell_type": "code",
   "execution_count": null,
   "metadata": {},
   "outputs": [],
   "source": [
    "# see what lines are currently available for measurement\n",
    "kr.EW_LINES"
   ]
  },
  {
   "cell_type": "code",
   "execution_count": null,
   "metadata": {},
   "outputs": [],
   "source": [
    "# there is one EW set from the literature included in kastredux from Mann et al. (2013)\n",
    "kr.measureEWSet(sp,ref='mann2013')"
   ]
  },
  {
   "cell_type": "markdown",
   "metadata": {},
   "source": [
    "## Measuring Halpha emission and luminosity\n",
    "\n",
    "The equivalent width of Halpha emission can be used to compute the Halpha luminosity of a star by using a $\\chi$ correction that compensates for the local continuum\n",
    "\n",
    "$\\log_{10}\\frac{L_{H\\alpha}}{L_{bol}} = \\chi\\times|{EW}|$\n",
    "\n",
    "There are two empirical relations for the $\\chi$ as a function of spectral type contained in kastredux, from Douglas et al. (2014) for spectral types M0-M9 and Schmidt et al. (2014) for spectral types M7-L7, which can be accessed using the chiFactor() function"
   ]
  },
  {
   "cell_type": "code",
   "execution_count": null,
   "metadata": {},
   "outputs": [],
   "source": [
    "# read in a spectrum and determine its spectal type\n",
    "sp = kr.readSpectrum(kr.SAMPLEFOLDER+'kastRED_J1229+0752_20220310.fits',name='J1229+0752')\n",
    "kr.classifyTemplate(sp,plot=True)"
   ]
  },
  {
   "cell_type": "code",
   "execution_count": null,
   "metadata": {},
   "outputs": [],
   "source": [
    "# for this M7 dwarf spectrum, we can use either relation; let's try both!\n",
    "# by default, log(LHalpha/Lbol) that is returned\n",
    "\n",
    "# Douglas relation\n",
    "lha,e_lha = kr.chiFactor(sp,ref='douglas2014',verbose=True)\n",
    "print('log LHa/Lbol = {:.2f}+/-{:.2f}\\n'.format(lha,e_lha))\n",
    "\n",
    "# Schmidt relation\n",
    "lha,e_lha = kr.chiFactor(sp,ref='schmidt2014',verbose=True)\n",
    "print('log LHa/Lbol = {:.2f}+/-{:.2f}'.format(lha,e_lha))\n"
   ]
  },
  {
   "cell_type": "code",
   "execution_count": null,
   "metadata": {},
   "outputs": [],
   "source": [
    "# you can also just get the chi factor and its uncertainty if you want it\n",
    "kr.chiFactor(sp,ref='douglas2014',output='chi')\n"
   ]
  },
  {
   "cell_type": "markdown",
   "metadata": {},
   "source": [
    "# theWorks()\n",
    "\n",
    "A handy tool that measures everything all at once is theWorks(), which runs through all f the various templates, indices, and relations and returns a large dictionary with a total assessment of the spectrum. Use wisely! Be sure to verify these measurements by visualizing the spectrum"
   ]
  },
  {
   "cell_type": "code",
   "execution_count": null,
   "metadata": {},
   "outputs": [],
   "source": [
    "sp = kr.readSpectrum(kr.SAMPLEFOLDER+'kastRED_J1229+0752_20220310.fits',name='J1229+0752')\n",
    "kr.theWorks(sp,verbose=True)"
   ]
  }
 ],
 "metadata": {
  "kernelspec": {
   "display_name": "Python 3 (ipykernel)",
   "language": "python",
   "name": "python3"
  },
  "language_info": {
   "codemirror_mode": {
    "name": "ipython",
    "version": 3
   },
   "file_extension": ".py",
   "mimetype": "text/x-python",
   "name": "python",
   "nbconvert_exporter": "python",
   "pygments_lexer": "ipython3",
   "version": "3.9.7"
  }
 },
 "nbformat": 4,
 "nbformat_minor": 4
}
